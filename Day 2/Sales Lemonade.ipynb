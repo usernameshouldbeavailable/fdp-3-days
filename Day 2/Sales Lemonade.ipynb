{
 "cells": [
  {
   "cell_type": "code",
   "execution_count": 1,
   "id": "6d530909",
   "metadata": {},
   "outputs": [
    {
     "data": {
      "text/html": [
       "<div>\n",
       "<style scoped>\n",
       "    .dataframe tbody tr th:only-of-type {\n",
       "        vertical-align: middle;\n",
       "    }\n",
       "\n",
       "    .dataframe tbody tr th {\n",
       "        vertical-align: top;\n",
       "    }\n",
       "\n",
       "    .dataframe thead th {\n",
       "        text-align: right;\n",
       "    }\n",
       "</style>\n",
       "<table border=\"1\" class=\"dataframe\">\n",
       "  <thead>\n",
       "    <tr style=\"text-align: right;\">\n",
       "      <th></th>\n",
       "      <th>Date</th>\n",
       "      <th>Day</th>\n",
       "      <th>Temperature</th>\n",
       "      <th>Rainfall</th>\n",
       "      <th>Flyers</th>\n",
       "      <th>Price</th>\n",
       "      <th>Sales</th>\n",
       "    </tr>\n",
       "  </thead>\n",
       "  <tbody>\n",
       "    <tr>\n",
       "      <th>0</th>\n",
       "      <td>01/01/2017</td>\n",
       "      <td>Sunday</td>\n",
       "      <td>27.0</td>\n",
       "      <td>2.00</td>\n",
       "      <td>15</td>\n",
       "      <td>0.3</td>\n",
       "      <td>10</td>\n",
       "    </tr>\n",
       "    <tr>\n",
       "      <th>1</th>\n",
       "      <td>02/01/2017</td>\n",
       "      <td>Monday</td>\n",
       "      <td>28.9</td>\n",
       "      <td>1.33</td>\n",
       "      <td>15</td>\n",
       "      <td>0.3</td>\n",
       "      <td>13</td>\n",
       "    </tr>\n",
       "    <tr>\n",
       "      <th>2</th>\n",
       "      <td>03/01/2017</td>\n",
       "      <td>Tuesday</td>\n",
       "      <td>34.5</td>\n",
       "      <td>1.33</td>\n",
       "      <td>27</td>\n",
       "      <td>0.3</td>\n",
       "      <td>15</td>\n",
       "    </tr>\n",
       "    <tr>\n",
       "      <th>3</th>\n",
       "      <td>04/01/2017</td>\n",
       "      <td>Wednesday</td>\n",
       "      <td>44.1</td>\n",
       "      <td>1.05</td>\n",
       "      <td>28</td>\n",
       "      <td>0.3</td>\n",
       "      <td>17</td>\n",
       "    </tr>\n",
       "    <tr>\n",
       "      <th>4</th>\n",
       "      <td>05/01/2017</td>\n",
       "      <td>Thursday</td>\n",
       "      <td>42.4</td>\n",
       "      <td>1.00</td>\n",
       "      <td>33</td>\n",
       "      <td>0.3</td>\n",
       "      <td>18</td>\n",
       "    </tr>\n",
       "    <tr>\n",
       "      <th>...</th>\n",
       "      <td>...</td>\n",
       "      <td>...</td>\n",
       "      <td>...</td>\n",
       "      <td>...</td>\n",
       "      <td>...</td>\n",
       "      <td>...</td>\n",
       "      <td>...</td>\n",
       "    </tr>\n",
       "    <tr>\n",
       "      <th>360</th>\n",
       "      <td>27/12/2017</td>\n",
       "      <td>Wednesday</td>\n",
       "      <td>42.7</td>\n",
       "      <td>1.00</td>\n",
       "      <td>33</td>\n",
       "      <td>0.3</td>\n",
       "      <td>19</td>\n",
       "    </tr>\n",
       "    <tr>\n",
       "      <th>361</th>\n",
       "      <td>28/12/2017</td>\n",
       "      <td>Thursday</td>\n",
       "      <td>37.8</td>\n",
       "      <td>1.25</td>\n",
       "      <td>32</td>\n",
       "      <td>0.3</td>\n",
       "      <td>16</td>\n",
       "    </tr>\n",
       "    <tr>\n",
       "      <th>362</th>\n",
       "      <td>29/12/2017</td>\n",
       "      <td>Friday</td>\n",
       "      <td>39.5</td>\n",
       "      <td>1.25</td>\n",
       "      <td>17</td>\n",
       "      <td>0.3</td>\n",
       "      <td>15</td>\n",
       "    </tr>\n",
       "    <tr>\n",
       "      <th>363</th>\n",
       "      <td>30/12/2017</td>\n",
       "      <td>Saturday</td>\n",
       "      <td>30.9</td>\n",
       "      <td>1.43</td>\n",
       "      <td>22</td>\n",
       "      <td>0.3</td>\n",
       "      <td>13</td>\n",
       "    </tr>\n",
       "    <tr>\n",
       "      <th>364</th>\n",
       "      <td>31/12/2017</td>\n",
       "      <td>Sunday</td>\n",
       "      <td>15.1</td>\n",
       "      <td>2.50</td>\n",
       "      <td>9</td>\n",
       "      <td>0.3</td>\n",
       "      <td>7</td>\n",
       "    </tr>\n",
       "  </tbody>\n",
       "</table>\n",
       "<p>365 rows × 7 columns</p>\n",
       "</div>"
      ],
      "text/plain": [
       "           Date        Day  Temperature  Rainfall  Flyers  Price  Sales\n",
       "0    01/01/2017     Sunday         27.0      2.00      15    0.3     10\n",
       "1    02/01/2017     Monday         28.9      1.33      15    0.3     13\n",
       "2    03/01/2017    Tuesday         34.5      1.33      27    0.3     15\n",
       "3    04/01/2017  Wednesday         44.1      1.05      28    0.3     17\n",
       "4    05/01/2017   Thursday         42.4      1.00      33    0.3     18\n",
       "..          ...        ...          ...       ...     ...    ...    ...\n",
       "360  27/12/2017  Wednesday         42.7      1.00      33    0.3     19\n",
       "361  28/12/2017   Thursday         37.8      1.25      32    0.3     16\n",
       "362  29/12/2017     Friday         39.5      1.25      17    0.3     15\n",
       "363  30/12/2017   Saturday         30.9      1.43      22    0.3     13\n",
       "364  31/12/2017     Sunday         15.1      2.50       9    0.3      7\n",
       "\n",
       "[365 rows x 7 columns]"
      ]
     },
     "execution_count": 1,
     "metadata": {},
     "output_type": "execute_result"
    }
   ],
   "source": [
    "import pandas as pd\n",
    "import matplotlib.pyplot as plt\n",
    "df = pd.read_csv('Lemonade.csv')\n",
    "df"
   ]
  },
  {
   "cell_type": "code",
   "execution_count": 3,
   "id": "3e471535",
   "metadata": {},
   "outputs": [
    {
     "data": {
      "image/png": "[encoded data removed]",
      "text/plain": [
       "<Figure size 432x288 with 1 Axes>"
      ]
     },
     "metadata": {
      "needs_background": "light"
     },
     "output_type": "display_data"
    }
   ],
   "source": [
    "# Step 1\n",
    "plt.scatter(df['Temperature'],df['Sales'])\n",
    "plt.xlabel('Temperature')\n",
    "plt.ylabel('Sales')\n",
    "plt.show()\n",
    "\n",
    "# Positive correlation"
   ]
  },
  {
   "cell_type": "code",
   "execution_count": 5,
   "id": "5a1e4f1b",
   "metadata": {},
   "outputs": [
    {
     "data": {
      "image/png": "[encoded data removed]",
      "text/plain": [
       "<Figure size 432x288 with 1 Axes>"
      ]
     },
     "metadata": {
      "needs_background": "light"
     },
     "output_type": "display_data"
    }
   ],
   "source": [
    "plt.scatter(df['Rainfall'],df['Sales'])\n",
    "plt.xlabel('Rainfall')\n",
    "plt.ylabel('Sales')\n",
    "plt.show()\n",
    "\n",
    "# Negative correlation"
   ]
  },
  {
   "cell_type": "code",
   "execution_count": 6,
   "id": "d696277b",
   "metadata": {},
   "outputs": [
    {
     "data": {
      "image/png": "[encoded data removed]",
      "text/plain": [
       "<Figure size 432x288 with 1 Axes>"
      ]
     },
     "metadata": {
      "needs_background": "light"
     },
     "output_type": "display_data"
    }
   ],
   "source": [
    "plt.scatter(df['Flyers'],df['Sales'])\n",
    "plt.xlabel('Flyers')\n",
    "plt.ylabel('Sales')\n",
    "plt.show()\n",
    "\n",
    "# Positive correlation"
   ]
  },
  {
   "cell_type": "code",
   "execution_count": 8,
   "id": "9f7f8299",
   "metadata": {},
   "outputs": [
    {
     "data": {
      "text/plain": [
       "<AxesSubplot:>"
      ]
     },
     "execution_count": 8,
     "metadata": {},
     "output_type": "execute_result"
    },
    {
     "data": {
      "image/png": "[encoded data removed]",
      "text/plain": [
       "<Figure size 432x288 with 1 Axes>"
      ]
     },
     "metadata": {
      "needs_background": "light"
     },
     "output_type": "display_data"
    }
   ],
   "source": [
    "df['Price'].value_counts().plot(kind='bar')"
   ]
  },
  {
   "cell_type": "code",
   "execution_count": 9,
   "id": "0cf49be8",
   "metadata": {},
   "outputs": [],
   "source": [
    "# y = mx+c\n",
    "# y = m1x1 + m2x2 + m3x3 + m4x4 + c\n",
    "\n",
    "# c = Y-intercept\n",
    "# m1,m2,m3,m4 = Slopes"
   ]
  },
  {
   "cell_type": "code",
   "execution_count": 12,
   "id": "069770ba",
   "metadata": {},
   "outputs": [],
   "source": [
    "# Step 2:\n",
    "# Considering input and output from the dataset\n",
    "\n",
    "x = df[['Temperature','Rainfall','Flyers','Price']].values\n",
    "y = df['Sales'].values"
   ]
  },
  {
   "cell_type": "code",
   "execution_count": 13,
   "id": "9e656e03",
   "metadata": {},
   "outputs": [],
   "source": [
    "# Step 3: Divide data into training and testing\n",
    "from sklearn.model_selection import train_test_split\n",
    "x_train, x_test, y_train, y_test = train_test_split(x, y, random_state=42)"
   ]
  },
  {
   "cell_type": "code",
   "execution_count": 14,
   "id": "b58fb5d6",
   "metadata": {},
   "outputs": [
    {
     "data": {
      "text/plain": [
       "91.25"
      ]
     },
     "execution_count": 14,
     "metadata": {},
     "output_type": "execute_result"
    }
   ],
   "source": [
    "0.25*365"
   ]
  },
  {
   "cell_type": "code",
   "execution_count": 15,
   "id": "523eaa67",
   "metadata": {},
   "outputs": [
    {
     "name": "stdout",
     "output_type": "stream",
     "text": [
      "(273, 4)\n",
      "(92, 4)\n"
     ]
    }
   ],
   "source": [
    "print(x_train.shape)\n",
    "print(x_test.shape)"
   ]
  },
  {
   "cell_type": "code",
   "execution_count": 16,
   "id": "4febf663",
   "metadata": {},
   "outputs": [
    {
     "data": {
      "text/plain": [
       "LinearRegression()"
      ]
     },
     "execution_count": 16,
     "metadata": {},
     "output_type": "execute_result"
    }
   ],
   "source": [
    "# Step 4\n",
    "from sklearn.linear_model import LinearRegression\n",
    "model = LinearRegression()\n",
    "model.fit(x_train,y_train) # Only training data shld be considered"
   ]
  },
  {
   "cell_type": "code",
   "execution_count": 17,
   "id": "691dbfea",
   "metadata": {},
   "outputs": [
    {
     "data": {
      "text/plain": [
       "array([ 0.36848105, -2.54016824,  0.02256083,  1.48908515])"
      ]
     },
     "execution_count": 17,
     "metadata": {},
     "output_type": "execute_result"
    }
   ],
   "source": [
    "m = model.coef_\n",
    "m"
   ]
  },
  {
   "cell_type": "code",
   "execution_count": 18,
   "id": "d1eb94bc",
   "metadata": {},
   "outputs": [
    {
     "data": {
      "text/plain": [
       "3.628934815328062"
      ]
     },
     "execution_count": 18,
     "metadata": {},
     "output_type": "execute_result"
    }
   ],
   "source": [
    "c = model.intercept_\n",
    "c"
   ]
  },
  {
   "cell_type": "code",
   "execution_count": 19,
   "id": "4aff843a",
   "metadata": {},
   "outputs": [
    {
     "data": {
      "text/plain": [
       "array([33.00261012, 20.96433145, 11.65055939, 21.40943257, 18.8842075 ,\n",
       "       34.5671284 , 22.55039576, 27.71064323, 33.10151667, 29.21316072,\n",
       "        7.80730634, 18.14950524, 22.0616028 , 17.63286598, 30.10010709,\n",
       "       23.93909431,  9.28272462, 24.62467203, 20.39881669, 27.22935803,\n",
       "       18.14506858, 35.02840051, 24.35887676, 28.38435949, 30.09668522,\n",
       "       34.66487948, 32.23966533, 25.35412636, 14.65835216, 15.55098023,\n",
       "       14.49816651, 25.35062148, 23.37986102, 17.5351149 , 33.18651863,\n",
       "       27.09500784, 23.18575113, 15.92138906, 12.36848424, 22.71792319,\n",
       "       28.8754564 , 13.53768997, 17.12986876, 25.58724243, 28.3640585 ,\n",
       "       29.46768215, 23.97569341, 20.0754573 , 10.00527087, 21.66962915,\n",
       "       29.43920936, 12.8948911 , 25.84167428, 28.22118576, 42.04158661,\n",
       "       13.38476312, 25.85419971, 18.29020116, 11.61122115, 23.79120389,\n",
       "       29.60464294, 12.45980662, 24.30983519, 19.99425329, 26.51371172,\n",
       "       23.35278051, 28.88681981, 28.54411136, 37.53403273, 23.85888638,\n",
       "       26.74682779, 33.38303559, 20.38295236, 31.16997248, 17.50811741,\n",
       "       40.98579136, 24.06695153, 24.92422554, 14.91176922, 12.8948911 ,\n",
       "       24.64598781, 27.71165802, 15.52800438, 27.39398034, 26.64631886,\n",
       "       23.27825429, 23.62577032, 27.09726768, 25.47217844, 28.00393402,\n",
       "       20.18826146, 23.82002744])"
      ]
     },
     "execution_count": 19,
     "metadata": {},
     "output_type": "execute_result"
    }
   ],
   "source": [
    "# Step 5\n",
    "y_pred = model.predict(x_test)\n",
    "y_pred"
   ]
  },
  {
   "cell_type": "code",
   "execution_count": 20,
   "id": "cf1bc588",
   "metadata": {},
   "outputs": [
    {
     "data": {
      "text/plain": [
       "array([33, 21, 12, 22, 20, 35, 23, 27, 33, 29, 10, 19, 23, 18, 30, 25, 10,\n",
       "       24, 19, 27, 18, 36, 23, 28, 29, 35, 32, 24, 15, 16, 16, 26, 22, 18,\n",
       "       34, 27, 23, 17, 14, 22, 29, 15, 18, 24, 27, 29, 25, 19, 11, 20, 30,\n",
       "       14, 25, 27, 42, 13, 27, 17, 13, 23, 30, 13, 24, 21, 28, 24, 29, 28,\n",
       "       37, 23, 28, 34, 19, 32, 17, 42, 25, 25, 16, 14, 25, 27, 15, 27, 25,\n",
       "       22, 23, 26, 25, 27, 19, 24], dtype=int64)"
      ]
     },
     "execution_count": 20,
     "metadata": {},
     "output_type": "execute_result"
    }
   ],
   "source": [
    "y_test"
   ]
  },
  {
   "cell_type": "code",
   "execution_count": 21,
   "id": "426ac5a6",
   "metadata": {},
   "outputs": [
    {
     "data": {
      "text/plain": [
       "0.8349800596109123"
      ]
     },
     "execution_count": 21,
     "metadata": {},
     "output_type": "execute_result"
    }
   ],
   "source": [
    "from sklearn.metrics import mean_squared_error\n",
    "mean_squared_error(y_pred,y_test)"
   ]
  },
  {
   "cell_type": "code",
   "execution_count": 24,
   "id": "32f7806c",
   "metadata": {},
   "outputs": [
    {
     "data": {
      "text/plain": [
       "array([15.83898556])"
      ]
     },
     "execution_count": 24,
     "metadata": {},
     "output_type": "execute_result"
    }
   ],
   "source": [
    "z = 39.5,1.25,17,0.3\n",
    "model.predict([z])\n"
   ]
  },
  {
   "cell_type": "code",
   "execution_count": 25,
   "id": "47edb10c",
   "metadata": {},
   "outputs": [
    {
     "name": "stdout",
     "output_type": "stream",
     "text": [
      "[ 0.36848105 -2.54016824  0.02256083  1.48908515]\n"
     ]
    }
   ],
   "source": [
    "print(m)"
   ]
  },
  {
   "cell_type": "code",
   "execution_count": 28,
   "id": "2f77aaa6",
   "metadata": {},
   "outputs": [
    {
     "data": {
      "text/plain": [
       "0.3684810477099234"
      ]
     },
     "execution_count": 28,
     "metadata": {},
     "output_type": "execute_result"
    }
   ],
   "source": [
    "m[0]"
   ]
  },
  {
   "cell_type": "code",
   "execution_count": 29,
   "id": "615ea15b",
   "metadata": {},
   "outputs": [
    {
     "data": {
      "text/plain": [
       "15.838985559691793"
      ]
     },
     "execution_count": 29,
     "metadata": {},
     "output_type": "execute_result"
    }
   ],
   "source": [
    "#y = m0z0 + m1z1 + m2z2 + m3z3 + c\n",
    "\n",
    "m[0] * z[0] +m[1] * z[1] + m[2] * z[2] + m[3] * z[3] + c\n"
   ]
  },
  {
   "cell_type": "code",
   "execution_count": null,
   "id": "ea261c03",
   "metadata": {},
   "outputs": [],
   "source": []
  }
 ],
 "metadata": {
  "kernelspec": {
   "display_name": "Python 3 (ipykernel)",
   "language": "python",
   "name": "python3"
  },
  "language_info": {
   "codemirror_mode": {
    "name": "ipython",
    "version": 3
   },
   "file_extension": ".py",
   "mimetype": "text/x-python",
   "name": "python",
   "nbconvert_exporter": "python",
   "pygments_lexer": "ipython3",
   "version": "3.9.7"
  }
 },
 "nbformat": 4,
 "nbformat_minor": 5
}
