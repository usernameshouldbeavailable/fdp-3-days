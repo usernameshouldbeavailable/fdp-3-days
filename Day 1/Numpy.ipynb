{
 "cells": [
  {
   "cell_type": "markdown",
   "metadata": {},
   "source": [
    "#### Numpy\n",
    "- Numpy stands for Numerical Python\n",
    "- Basic and one of the most important library for numerical computations\n",
    "- Supports N-dimensional array objects that can be used for processing multidimensional data\n",
    "- Supports different data-types"
   ]
  },
  {
   "cell_type": "code",
   "execution_count": 1,
   "metadata": {},
   "outputs": [
    {
     "name": "stdout",
     "output_type": "stream",
     "text": [
      "Requirement already satisfied: numpy in c:\\users\\avina\\anaconda3\\lib\\site-packages (1.19.5)\n",
      "Note: you may need to restart the kernel to use updated packages.\n"
     ]
    }
   ],
   "source": [
    "pip install numpy"
   ]
  },
  {
   "cell_type": "markdown",
   "metadata": {},
   "source": [
    "##### Using Numpy we can perform\n",
    "\n",
    "- Mathematical and logical operations on arrays\n",
    "- Fourier transforms\n",
    "- Linear algebra operations\n",
    "- Random number generation"
   ]
  },
  {
   "cell_type": "code",
   "execution_count": 3,
   "metadata": {},
   "outputs": [],
   "source": [
    "import numpy as np"
   ]
  },
  {
   "cell_type": "markdown",
   "metadata": {},
   "source": [
    "### How to Create arrray\n",
    "##### 1. using np.array method"
   ]
  },
  {
   "cell_type": "markdown",
   "metadata": {},
   "source": [
    "- Ordered collection of elements of basic data types of given length\n",
    "- Syntax: numpy.array(object)"
   ]
  },
  {
   "cell_type": "code",
   "execution_count": 4,
   "metadata": {},
   "outputs": [
    {
     "name": "stdout",
     "output_type": "stream",
     "text": [
      "[4 5 6]\n",
      "<class 'numpy.ndarray'>\n",
      "int32\n"
     ]
    }
   ],
   "source": [
    "array1 = np.array([4,5,6])\n",
    "print(array1)\n",
    "print(type(array1))\n",
    "print(array1.dtype)"
   ]
  },
  {
   "cell_type": "code",
   "execution_count": 10,
   "metadata": {},
   "outputs": [
    {
     "name": "stdout",
     "output_type": "stream",
     "text": [
      "6\n",
      "<class 'numpy.int32'>\n"
     ]
    }
   ],
   "source": [
    "array2=np.array([3,4,6]) # 0 = 3, 1 = 4, 2 = 6  \n",
    "print(array2[2])\n",
    "print(type(array2[1]))"
   ]
  },
  {
   "cell_type": "code",
   "execution_count": 8,
   "metadata": {},
   "outputs": [
    {
     "data": {
      "text/plain": [
       "numpy.ndarray"
      ]
     },
     "execution_count": 8,
     "metadata": {},
     "output_type": "execute_result"
    }
   ],
   "source": [
    "type(array2)"
   ]
  },
  {
   "cell_type": "code",
   "execution_count": 9,
   "metadata": {},
   "outputs": [
    {
     "name": "stdout",
     "output_type": "stream",
     "text": [
      "int32\n"
     ]
    }
   ],
   "source": [
    "print(array2.dtype)"
   ]
  },
  {
   "cell_type": "markdown",
   "metadata": {},
   "source": [
    "##### Important Note - \n",
    "- Arrray in python is collection of different datatype elements\n",
    "- All elements are coerced(converted) to same data type i.e conversion will be done of lower datatype elements to higher datatype elements"
   ]
  },
  {
   "cell_type": "code",
   "execution_count": 11,
   "metadata": {
    "scrolled": true
   },
   "outputs": [
    {
     "name": "stdout",
     "output_type": "stream",
     "text": [
      "['2' '3' '5.6' 'avinash']\n",
      "<class 'numpy.ndarray'>\n",
      "<class 'numpy.str_'>\n",
      "<class 'numpy.str_'>\n",
      "<class 'numpy.str_'>\n",
      "<class 'numpy.str_'>\n"
     ]
    }
   ],
   "source": [
    "arr1=np.array([2,3,5.6,\"avinash\"])\n",
    "print(arr1)\n",
    "print(type(arr1))\n",
    "print(type(arr1[0]))\n",
    "print(type(arr1[1]))\n",
    "print(type(arr1[2]))\n",
    "print(type(arr1[3]))"
   ]
  },
  {
   "cell_type": "markdown",
   "metadata": {},
   "source": [
    "#### 2. Generate arrays using arange( )\n",
    "- numpy.arange()- returns equally spaced numbers with in the given range based on step size\n",
    "- Syntax:numpy.arange(start,stop,step)\n",
    "- start - start of interval range\n",
    "- stop - end of interval range\n",
    "- step - step size of interval"
   ]
  },
  {
   "cell_type": "code",
   "execution_count": 8,
   "metadata": {},
   "outputs": [
    {
     "name": "stdout",
     "output_type": "stream",
     "text": [
      "[0 1 2 3 4 5 6 7 8 9]\n"
     ]
    }
   ],
   "source": [
    "a1=np.arange(10)\n",
    "print(a1)\n",
    "\n",
    "# for (int i = 0; i < 10; i++)"
   ]
  },
  {
   "cell_type": "code",
   "execution_count": 9,
   "metadata": {},
   "outputs": [
    {
     "name": "stdout",
     "output_type": "stream",
     "text": [
      "[110 113 116 119]\n"
     ]
    }
   ],
   "source": [
    "a3=np.arange(start=110,stop=120,step=3) # i = i + 3\n",
    "print(a3)\n",
    "\n",
    "# for(int i = 110; i < 120; i = i + 3) "
   ]
  },
  {
   "cell_type": "markdown",
   "metadata": {},
   "source": [
    "- Create array of elements between 70 to 50 with 5 difference"
   ]
  },
  {
   "cell_type": "code",
   "execution_count": 12,
   "metadata": {},
   "outputs": [
    {
     "name": "stdout",
     "output_type": "stream",
     "text": [
      "[70 65 60 55]\n"
     ]
    }
   ],
   "source": [
    "a4 = np.arange(start=70,stop=50,step=-5) #\n",
    "print(a4)\n",
    "# for(int i = 70; i > 50; i = i - 5)"
   ]
  },
  {
   "cell_type": "markdown",
   "metadata": {},
   "source": [
    "#### 3. Generate arrays using ones\n",
    "- numpy.ones()- returns an array of given shape and type filled with ones\n",
    "- Syntax:numpy.ones(shape,dtype)\n",
    "- shape - integer or sequence of integers\n",
    "- dtype - data type (default:float)"
   ]
  },
  {
   "cell_type": "code",
   "execution_count": 13,
   "metadata": {},
   "outputs": [
    {
     "name": "stdout",
     "output_type": "stream",
     "text": [
      "[1. 1. 1. 1. 1. 1.]\n",
      "<class 'numpy.float64'>\n"
     ]
    }
   ],
   "source": [
    "arr4 = np.ones(6)\n",
    "print(arr4)\n",
    "print(type(arr4[5]))"
   ]
  },
  {
   "cell_type": "code",
   "execution_count": 14,
   "metadata": {
    "scrolled": true
   },
   "outputs": [
    {
     "name": "stdout",
     "output_type": "stream",
     "text": [
      "[[1 1 1 1 1 1 1]\n",
      " [1 1 1 1 1 1 1]\n",
      " [1 1 1 1 1 1 1]]\n"
     ]
    }
   ],
   "source": [
    "arr5= np.ones((3,7),int) # 3 rows & 7 columns\n",
    "print(arr5)"
   ]
  },
  {
   "cell_type": "markdown",
   "metadata": {},
   "source": [
    "##### 4. Generate arrays using zeros\n",
    "- numpy.zeros()- returns an array of given shape and type filled with zeros\n",
    "- Syntax:numpy.zeros(shape,dtype)\n",
    "- shape - integer or sequence of integers\n",
    "- dtype - data type (default:float)"
   ]
  },
  {
   "cell_type": "code",
   "execution_count": 15,
   "metadata": {},
   "outputs": [
    {
     "name": "stdout",
     "output_type": "stream",
     "text": [
      "[0. 0. 0. 0. 0. 0.]\n"
     ]
    }
   ],
   "source": [
    "arr7= np.zeros(6)\n",
    "print(arr7)"
   ]
  },
  {
   "cell_type": "code",
   "execution_count": 16,
   "metadata": {},
   "outputs": [
    {
     "name": "stdout",
     "output_type": "stream",
     "text": [
      "[[0 0 0 0 0 0 0]\n",
      " [0 0 0 0 0 0 0]\n",
      " [0 0 0 0 0 0 0]]\n"
     ]
    }
   ],
   "source": [
    "arr8= np.zeros((3,7),int)\n",
    "print(arr8)"
   ]
  },
  {
   "cell_type": "markdown",
   "metadata": {},
   "source": [
    "#### 5. Generate arrays using random.rand( )\n",
    "- numpy.random.rand()- returns an array of given shape filled with random values\n",
    "- Syntax:numpy.random.rand(shape)\n",
    "- shape - integer or sequence of integers"
   ]
  },
  {
   "cell_type": "code",
   "execution_count": 17,
   "metadata": {},
   "outputs": [
    {
     "name": "stdout",
     "output_type": "stream",
     "text": [
      "[0.53057154 0.03048933 0.64440232 0.55770695 0.42765156 0.50958622\n",
      " 0.25098057 0.27542136 0.31636228 0.23815328]\n"
     ]
    }
   ],
   "source": [
    "# Create 1D array of 5 random elements between 0 to 1\n",
    "a10 = np.random.rand(10)\n",
    "print(a10)"
   ]
  },
  {
   "cell_type": "code",
   "execution_count": 19,
   "metadata": {},
   "outputs": [
    {
     "name": "stdout",
     "output_type": "stream",
     "text": [
      "[[0.42628645 0.59973648 0.95217141 0.22654314 0.84565689]\n",
      " [0.36294334 0.09763472 0.93023099 0.36460878 0.07312726]\n",
      " [0.71063331 0.94203515 0.14085837 0.74210685 0.09856286]\n",
      " [0.46201585 0.89844139 0.32607985 0.86834785 0.24691216]\n",
      " [0.21386199 0.11407277 0.23239247 0.98872955 0.78178304]\n",
      " [0.68297201 0.15244793 0.82249319 0.84877341 0.27863278]\n",
      " [0.57185083 0.23818038 0.54361659 0.50679552 0.74993019]]\n"
     ]
    }
   ],
   "source": [
    "# Create 2D array of 35 random elements between 0 to 1\n",
    "a11=np.random.rand(7,5) # 7 rows & 5 columns\n",
    "print(a11)"
   ]
  },
  {
   "cell_type": "code",
   "execution_count": 21,
   "metadata": {},
   "outputs": [
    {
     "name": "stdout",
     "output_type": "stream",
     "text": [
      "[[131 133 114 139 135]\n",
      " [129 133 137 122 128]\n",
      " [122 127 141 114 100]\n",
      " [100 121 105 100 139]\n",
      " [101 128 124 105 124]\n",
      " [125 102 145 140 104]\n",
      " [136 149 137 103 134]]\n"
     ]
    }
   ],
   "source": [
    "# Create 2D array of 35 random int elements between 100 to 150\n",
    "a12 = np.random.randint(100,150,(7,5))\n",
    "print(a12)"
   ]
  },
  {
   "cell_type": "markdown",
   "metadata": {},
   "source": [
    "1. Speed - Array is faster than list\n",
    "2. Memory Storage - Array takes less memory than list"
   ]
  },
  {
   "cell_type": "markdown",
   "metadata": {},
   "source": [
    "Reshape - We can change shape of arrays"
   ]
  },
  {
   "cell_type": "code",
   "execution_count": 22,
   "metadata": {},
   "outputs": [
    {
     "name": "stdout",
     "output_type": "stream",
     "text": [
      "[[1 2 3 4]\n",
      " [6 7 8 9]]\n",
      "(2, 4)\n"
     ]
    }
   ],
   "source": [
    "a=np.array([[1,2,3,4],[6,7,8,9]])\n",
    "print(a)\n",
    "print(a.shape)"
   ]
  },
  {
   "cell_type": "code",
   "execution_count": 23,
   "metadata": {},
   "outputs": [
    {
     "name": "stdout",
     "output_type": "stream",
     "text": [
      "[[1 2]\n",
      " [3 4]\n",
      " [6 7]\n",
      " [8 9]]\n"
     ]
    }
   ],
   "source": [
    "b = a.reshape(4,2)\n",
    "print(b)"
   ]
  },
  {
   "cell_type": "code",
   "execution_count": 24,
   "metadata": {},
   "outputs": [
    {
     "data": {
      "text/plain": [
       "(4, 2)"
      ]
     },
     "execution_count": 24,
     "metadata": {},
     "output_type": "execute_result"
    }
   ],
   "source": [
    "b.shape"
   ]
  },
  {
   "cell_type": "markdown",
   "metadata": {},
   "source": [
    "##### Arrithmetic Operations in Numpy"
   ]
  },
  {
   "cell_type": "code",
   "execution_count": 25,
   "metadata": {},
   "outputs": [
    {
     "name": "stdout",
     "output_type": "stream",
     "text": [
      "[[1 2 3]\n",
      " [4 5 6]\n",
      " [7 8 9]]\n",
      "[[11 12 13]\n",
      " [14 15 16]\n",
      " [17 18 19]]\n"
     ]
    }
   ],
   "source": [
    "a1=np.array([[1,2,3],[4,5,6],[7,8,9]])\n",
    "a2=np.array([[11,12,13],[14,15,16],[17,18,19]])\n",
    "print(a1)\n",
    "print(a2)"
   ]
  },
  {
   "cell_type": "code",
   "execution_count": 26,
   "metadata": {},
   "outputs": [
    {
     "name": "stdout",
     "output_type": "stream",
     "text": [
      "addditon of a1 and a2 is\n",
      " [[12 14 16]\n",
      " [18 20 22]\n",
      " [24 26 28]]\n"
     ]
    }
   ],
   "source": [
    "print(\"addditon of a1 and a2 is\\n\", np.add(a1,a2))"
   ]
  },
  {
   "cell_type": "code",
   "execution_count": 27,
   "metadata": {},
   "outputs": [
    {
     "name": "stdout",
     "output_type": "stream",
     "text": [
      "subtract of a1 and a2 is\n",
      " [[-10 -10 -10]\n",
      " [-10 -10 -10]\n",
      " [-10 -10 -10]]\n"
     ]
    }
   ],
   "source": [
    "print(\"subtract of a1 and a2 is\\n\",np.subtract(a1,a2))"
   ]
  },
  {
   "cell_type": "code",
   "execution_count": 28,
   "metadata": {},
   "outputs": [
    {
     "name": "stdout",
     "output_type": "stream",
     "text": [
      "mul of a1 and a2 is\n",
      " [[ 11  24  39]\n",
      " [ 56  75  96]\n",
      " [119 144 171]]\n"
     ]
    }
   ],
   "source": [
    "print(\"mul of a1 and a2 is\\n\",np.multiply(a1,a2))"
   ]
  },
  {
   "cell_type": "code",
   "execution_count": 29,
   "metadata": {},
   "outputs": [
    {
     "name": "stdout",
     "output_type": "stream",
     "text": [
      "divide of a1 and a2 is\n",
      " [[11.          6.          4.33333333]\n",
      " [ 3.5         3.          2.66666667]\n",
      " [ 2.42857143  2.25        2.11111111]]\n"
     ]
    }
   ],
   "source": [
    "print(\"divide of a1 and a2 is\\n\",np.divide(a2,a1))"
   ]
  },
  {
   "cell_type": "code",
   "execution_count": 30,
   "metadata": {},
   "outputs": [
    {
     "name": "stdout",
     "output_type": "stream",
     "text": [
      "remainder of a1 and a2 is\n",
      " [[0 0 1]\n",
      " [2 0 4]\n",
      " [3 2 1]]\n"
     ]
    }
   ],
   "source": [
    "print(\"remainder of a1 and a2 is\\n\",np.remainder(a2,a1))"
   ]
  },
  {
   "cell_type": "code",
   "execution_count": 26,
   "metadata": {},
   "outputs": [
    {
     "name": "stdout",
     "output_type": "stream",
     "text": [
      "Requirement already satisfied: numpy in c:\\users\\avina\\anaconda3\\lib\\site-packages (1.19.5)Note: you may need to restart the kernel to use updated packages.\n",
      "\n"
     ]
    }
   ],
   "source": [
    "pip install numpy"
   ]
  },
  {
   "cell_type": "code",
   "execution_count": null,
   "metadata": {},
   "outputs": [],
   "source": []
  }
 ],
 "metadata": {
  "kernelspec": {
   "display_name": "Python 3",
   "language": "python",
   "name": "python3"
  },
  "language_info": {
   "codemirror_mode": {
    "name": "ipython",
    "version": 3
   },
   "file_extension": ".py",
   "mimetype": "text/x-python",
   "name": "python",
   "nbconvert_exporter": "python",
   "pygments_lexer": "ipython3",
   "version": "3.8.8"
  }
 },
 "nbformat": 4,
 "nbformat_minor": 2
}
