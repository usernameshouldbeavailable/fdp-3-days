{
 "cells": [
  {
   "cell_type": "code",
   "execution_count": 2,
   "metadata": {},
   "outputs": [
    {
     "name": "stdout",
     "output_type": "stream",
     "text": [
      "Requirement already satisfied: matplotlib in c:\\users\\avina\\anaconda3\\lib\\site-packages (3.3.4)\n",
      "Requirement already satisfied: numpy>=1.15 in c:\\users\\avina\\anaconda3\\lib\\site-packages (from matplotlib) (1.19.5)\n",
      "Requirement already satisfied: cycler>=0.10 in c:\\users\\avina\\anaconda3\\lib\\site-packages (from matplotlib) (0.10.0)\n",
      "Requirement already satisfied: pyparsing!=2.0.4,!=2.1.2,!=2.1.6,>=2.0.3 in c:\\users\\avina\\anaconda3\\lib\\site-packages (from matplotlib) (2.4.7)\n",
      "Requirement already satisfied: kiwisolver>=1.0.1 in c:\\users\\avina\\anaconda3\\lib\\site-packages (from matplotlib) (1.3.1)\n",
      "Requirement already satisfied: python-dateutil>=2.1 in c:\\users\\avina\\anaconda3\\lib\\site-packages (from matplotlib) (2.8.1)\n",
      "Requirement already satisfied: pillow>=6.2.0 in c:\\users\\avina\\anaconda3\\lib\\site-packages (from matplotlib) (8.2.0)\n",
      "Requirement already satisfied: six in c:\\users\\avina\\anaconda3\\lib\\site-packages (from cycler>=0.10->matplotlib) (1.15.0)\n",
      "Note: you may need to restart the kernel to use updated packages.\n"
     ]
    }
   ],
   "source": [
    "pip install matplotlib"
   ]
  },
  {
   "cell_type": "code",
   "execution_count": 3,
   "metadata": {},
   "outputs": [],
   "source": [
    "import matplotlib.pyplot as plt"
   ]
  },
  {
   "cell_type": "code",
   "execution_count": 4,
   "metadata": {},
   "outputs": [],
   "source": [
    "from matplotlib import pyplot as plt"
   ]
  },
  {
   "cell_type": "markdown",
   "metadata": {},
   "source": [
    "#### 1. Line Plot"
   ]
  },
  {
   "cell_type": "markdown",
   "metadata": {},
   "source": [
    "#### Lets consider 2 list days and temperature"
   ]
  },
  {
   "cell_type": "code",
   "execution_count": 5,
   "metadata": {},
   "outputs": [],
   "source": [
    "days = [1,2,3,4,5,6,7]\n",
    "temprature = [50,51,52,48,47,49,46]"
   ]
  },
  {
   "cell_type": "code",
   "execution_count": 13,
   "metadata": {},
   "outputs": [
    {
     "data": {
      "text/plain": [
       "Text(0.5, 1.0, 'Day wise temperature')"
      ]
     },
     "execution_count": 13,
     "metadata": {},
     "output_type": "execute_result"
    },
    {
     "data": {
      "image/png": "[encoded data removed]",
      "text/plain": [
       "<Figure size 432x288 with 1 Axes>"
      ]
     },
     "metadata": {
      "needs_background": "light"
     },
     "output_type": "display_data"
    }
   ],
   "source": [
    "plt.plot(days,temprature,marker='o',color='red',markersize=16)\n",
    "plt.xlabel(\" Day \")\n",
    "plt.ylabel(\"Temperature\")\n",
    "plt.title(\"Day wise temperature\")"
   ]
  },
  {
   "cell_type": "markdown",
   "metadata": {},
   "source": [
    "#### 2. Scatter Plot"
   ]
  },
  {
   "cell_type": "markdown",
   "metadata": {},
   "source": [
    "Pandas is a software library written for the Python programming language for data manipulation and analysis."
   ]
  },
  {
   "cell_type": "code",
   "execution_count": 15,
   "metadata": {},
   "outputs": [],
   "source": [
    "import pandas as pd\n",
    "import matplotlib.pyplot as plt\n",
    "%matplotlib inline"
   ]
  },
  {
   "cell_type": "code",
   "execution_count": 16,
   "metadata": {},
   "outputs": [],
   "source": [
    "df = pd.read_csv(\"https://raw.githubusercontent.com/mona-patra/FDP-5days/main/Day%201/Road_Accidents_2017-India.csv\")"
   ]
  },
  {
   "cell_type": "code",
   "execution_count": 17,
   "metadata": {
    "scrolled": true
   },
   "outputs": [
    {
     "data": {
      "text/html": [
       "<div>\n",
       "<style scoped>\n",
       "    .dataframe tbody tr th:only-of-type {\n",
       "        vertical-align: middle;\n",
       "    }\n",
       "\n",
       "    .dataframe tbody tr th {\n",
       "        vertical-align: top;\n",
       "    }\n",
       "\n",
       "    .dataframe thead th {\n",
       "        text-align: right;\n",
       "    }\n",
       "</style>\n",
       "<table border=\"1\" class=\"dataframe\">\n",
       "  <thead>\n",
       "    <tr style=\"text-align: right;\">\n",
       "      <th></th>\n",
       "      <th>Years</th>\n",
       "      <th>Total Number of Road Accidents (in numbers)</th>\n",
       "      <th>Total Number of Persons Killed (in numbers)</th>\n",
       "      <th>Total Number of Persons Injured (in numbers)</th>\n",
       "      <th>Population of India (in thousands)</th>\n",
       "      <th>Total Number of Registered Motor Vehicles (in thousands)</th>\n",
       "      <th>Road Length (in kms)</th>\n",
       "      <th>Number of Accidents per Lakh Population</th>\n",
       "      <th>Number of Accidents per Ten Thousand Vehicles</th>\n",
       "      <th>Number of Accidents per Ten Thousand Kms of Roads</th>\n",
       "      <th>Number of Persons Killed Per Lakh Population</th>\n",
       "      <th>Number of Persons Killed Per Ten Thousand Vehicles</th>\n",
       "      <th>Number of Persons Killed per Ten Thousand Kms of Roads</th>\n",
       "      <th>Number of Persons Injured per Lakh Population</th>\n",
       "      <th>Number of Persons Injured Per Ten Thousand Vehicles</th>\n",
       "      <th>Number of Persons Injured Per Ten Thousand Kms of Roads</th>\n",
       "    </tr>\n",
       "  </thead>\n",
       "  <tbody>\n",
       "    <tr>\n",
       "      <th>0</th>\n",
       "      <td>1970</td>\n",
       "      <td>114100</td>\n",
       "      <td>14500</td>\n",
       "      <td>70100</td>\n",
       "      <td>539000.0</td>\n",
       "      <td>1401.0</td>\n",
       "      <td>1188728.0</td>\n",
       "      <td>21.2</td>\n",
       "      <td>814.4</td>\n",
       "      <td>959.8</td>\n",
       "      <td>2.7</td>\n",
       "      <td>103.5</td>\n",
       "      <td>122.0</td>\n",
       "      <td>13.0</td>\n",
       "      <td>500.4</td>\n",
       "      <td>589.7</td>\n",
       "    </tr>\n",
       "    <tr>\n",
       "      <th>1</th>\n",
       "      <td>1980</td>\n",
       "      <td>153200</td>\n",
       "      <td>24000</td>\n",
       "      <td>109100</td>\n",
       "      <td>673000.0</td>\n",
       "      <td>4521.0</td>\n",
       "      <td>1491873.0</td>\n",
       "      <td>22.8</td>\n",
       "      <td>338.9</td>\n",
       "      <td>1026.9</td>\n",
       "      <td>3.6</td>\n",
       "      <td>53.1</td>\n",
       "      <td>160.9</td>\n",
       "      <td>16.2</td>\n",
       "      <td>241.3</td>\n",
       "      <td>731.3</td>\n",
       "    </tr>\n",
       "    <tr>\n",
       "      <th>2</th>\n",
       "      <td>1990</td>\n",
       "      <td>282600</td>\n",
       "      <td>54100</td>\n",
       "      <td>244100</td>\n",
       "      <td>835000.0</td>\n",
       "      <td>19152.0</td>\n",
       "      <td>1983867.0</td>\n",
       "      <td>33.8</td>\n",
       "      <td>147.6</td>\n",
       "      <td>1424.5</td>\n",
       "      <td>6.5</td>\n",
       "      <td>28.2</td>\n",
       "      <td>272.7</td>\n",
       "      <td>29.2</td>\n",
       "      <td>127.5</td>\n",
       "      <td>1230.4</td>\n",
       "    </tr>\n",
       "    <tr>\n",
       "      <th>3</th>\n",
       "      <td>1994</td>\n",
       "      <td>325864</td>\n",
       "      <td>64463</td>\n",
       "      <td>311500</td>\n",
       "      <td>904000.0</td>\n",
       "      <td>27660.0</td>\n",
       "      <td>2890950.0</td>\n",
       "      <td>36.0</td>\n",
       "      <td>117.8</td>\n",
       "      <td>1127.2</td>\n",
       "      <td>7.1</td>\n",
       "      <td>23.3</td>\n",
       "      <td>223.0</td>\n",
       "      <td>34.5</td>\n",
       "      <td>112.6</td>\n",
       "      <td>1077.5</td>\n",
       "    </tr>\n",
       "    <tr>\n",
       "      <th>4</th>\n",
       "      <td>1995</td>\n",
       "      <td>351999</td>\n",
       "      <td>70781</td>\n",
       "      <td>323200</td>\n",
       "      <td>924359.0</td>\n",
       "      <td>30295.0</td>\n",
       "      <td>2975035.0</td>\n",
       "      <td>38.1</td>\n",
       "      <td>116.2</td>\n",
       "      <td>1183.2</td>\n",
       "      <td>7.7</td>\n",
       "      <td>23.4</td>\n",
       "      <td>237.9</td>\n",
       "      <td>35.0</td>\n",
       "      <td>106.7</td>\n",
       "      <td>1086.4</td>\n",
       "    </tr>\n",
       "  </tbody>\n",
       "</table>\n",
       "</div>"
      ],
      "text/plain": [
       "   Years  Total Number of Road Accidents (in numbers)  \\\n",
       "0   1970                                       114100   \n",
       "1   1980                                       153200   \n",
       "2   1990                                       282600   \n",
       "3   1994                                       325864   \n",
       "4   1995                                       351999   \n",
       "\n",
       "   Total Number of Persons Killed (in numbers)  \\\n",
       "0                                        14500   \n",
       "1                                        24000   \n",
       "2                                        54100   \n",
       "3                                        64463   \n",
       "4                                        70781   \n",
       "\n",
       "   Total Number of Persons Injured (in numbers)  \\\n",
       "0                                         70100   \n",
       "1                                        109100   \n",
       "2                                        244100   \n",
       "3                                        311500   \n",
       "4                                        323200   \n",
       "\n",
       "   Population of India (in thousands)  \\\n",
       "0                            539000.0   \n",
       "1                            673000.0   \n",
       "2                            835000.0   \n",
       "3                            904000.0   \n",
       "4                            924359.0   \n",
       "\n",
       "   Total Number of Registered Motor Vehicles (in thousands)  \\\n",
       "0                                             1401.0          \n",
       "1                                             4521.0          \n",
       "2                                            19152.0          \n",
       "3                                            27660.0          \n",
       "4                                            30295.0          \n",
       "\n",
       "   Road Length (in kms)  Number of Accidents per Lakh Population  \\\n",
       "0             1188728.0                                     21.2   \n",
       "1             1491873.0                                     22.8   \n",
       "2             1983867.0                                     33.8   \n",
       "3             2890950.0                                     36.0   \n",
       "4             2975035.0                                     38.1   \n",
       "\n",
       "   Number of Accidents per Ten Thousand Vehicles  \\\n",
       "0                                          814.4   \n",
       "1                                          338.9   \n",
       "2                                          147.6   \n",
       "3                                          117.8   \n",
       "4                                          116.2   \n",
       "\n",
       "   Number of Accidents per Ten Thousand Kms of Roads  \\\n",
       "0                                              959.8   \n",
       "1                                             1026.9   \n",
       "2                                             1424.5   \n",
       "3                                             1127.2   \n",
       "4                                             1183.2   \n",
       "\n",
       "   Number of Persons Killed Per Lakh Population  \\\n",
       "0                                           2.7   \n",
       "1                                           3.6   \n",
       "2                                           6.5   \n",
       "3                                           7.1   \n",
       "4                                           7.7   \n",
       "\n",
       "   Number of Persons Killed Per Ten Thousand Vehicles  \\\n",
       "0                                              103.5    \n",
       "1                                               53.1    \n",
       "2                                               28.2    \n",
       "3                                               23.3    \n",
       "4                                               23.4    \n",
       "\n",
       "   Number of Persons Killed per Ten Thousand Kms of Roads  \\\n",
       "0                                              122.0        \n",
       "1                                              160.9        \n",
       "2                                              272.7        \n",
       "3                                              223.0        \n",
       "4                                              237.9        \n",
       "\n",
       "   Number of Persons Injured per Lakh Population  \\\n",
       "0                                           13.0   \n",
       "1                                           16.2   \n",
       "2                                           29.2   \n",
       "3                                           34.5   \n",
       "4                                           35.0   \n",
       "\n",
       "   Number of Persons Injured Per Ten Thousand Vehicles  \\\n",
       "0                                              500.4     \n",
       "1                                              241.3     \n",
       "2                                              127.5     \n",
       "3                                              112.6     \n",
       "4                                              106.7     \n",
       "\n",
       "   Number of Persons Injured Per Ten Thousand Kms of Roads  \n",
       "0                                              589.7        \n",
       "1                                              731.3        \n",
       "2                                             1230.4        \n",
       "3                                             1077.5        \n",
       "4                                             1086.4        "
      ]
     },
     "execution_count": 17,
     "metadata": {},
     "output_type": "execute_result"
    }
   ],
   "source": [
    "df.head()"
   ]
  },
  {
   "cell_type": "code",
   "execution_count": 21,
   "metadata": {},
   "outputs": [
    {
     "data": {
      "image/png": "[encoded data removed]",
      "text/plain": [
       "<Figure size 432x288 with 1 Axes>"
      ]
     },
     "metadata": {
      "needs_background": "light"
     },
     "output_type": "display_data"
    }
   ],
   "source": [
    "plt.scatter(df.Years,df['Total Number of Road Accidents (in numbers)'],marker=\".\")\n",
    "plt.ylabel(\"No of people Died\")\n",
    "plt.xlabel(\"Year\")\n",
    "plt.title(\"People Died in Accident respect to Years in India\")\n",
    "plt.grid()"
   ]
  },
  {
   "cell_type": "markdown",
   "metadata": {},
   "source": [
    "##### 3. Bar Chart"
   ]
  },
  {
   "cell_type": "markdown",
   "metadata": {},
   "source": [
    "- bar chart is basically used for see the comparision between various parameters"
   ]
  },
  {
   "cell_type": "code",
   "execution_count": 23,
   "metadata": {},
   "outputs": [],
   "source": [
    "company=[\"TCS\",\"Infy\",\"LTI\",\"PSL\"]\n",
    "revenue=[400,370,90,160]"
   ]
  },
  {
   "cell_type": "code",
   "execution_count": 24,
   "metadata": {},
   "outputs": [],
   "source": [
    "import matplotlib.pyplot as plt"
   ]
  },
  {
   "cell_type": "code",
   "execution_count": 25,
   "metadata": {
    "scrolled": true
   },
   "outputs": [
    {
     "data": {
      "text/plain": [
       "<matplotlib.legend.Legend at 0x1f762483970>"
      ]
     },
     "execution_count": 25,
     "metadata": {},
     "output_type": "execute_result"
    },
    {
     "data": {
      "image/png": "[encoded data removed]",
      "text/plain": [
       "<Figure size 432x288 with 1 Axes>"
      ]
     },
     "metadata": {
      "needs_background": "light"
     },
     "output_type": "display_data"
    }
   ],
   "source": [
    "plt.bar(company,revenue,label=\"Revenue\")\n",
    "plt.xlabel(\"Company Name\")\n",
    "plt.ylabel(\"Revenue in Billion $\")\n",
    "plt.title(\"Graph for company vs Revenue\")\n",
    "plt.legend()"
   ]
  },
  {
   "cell_type": "markdown",
   "metadata": {},
   "source": [
    "##### 4. Pie Charts"
   ]
  },
  {
   "cell_type": "markdown",
   "metadata": {},
   "source": [
    "- it used to plot the graph with percentages for each criteria. for ex company expenses"
   ]
  },
  {
   "cell_type": "code",
   "execution_count": 26,
   "metadata": {},
   "outputs": [],
   "source": [
    "company_expenses=[100,60,40,20,80]\n",
    "expense_data=[\"emp_sal\",\"EP Devlopment\",\"Food Expenses\",\"Travelling Allow\",\"prizes\"]"
   ]
  },
  {
   "cell_type": "code",
   "execution_count": 32,
   "metadata": {},
   "outputs": [
    {
     "data": {
      "image/png": "[encoded data removed]",
      "text/plain": [
       "<Figure size 432x288 with 1 Axes>"
      ]
     },
     "metadata": {},
     "output_type": "display_data"
    }
   ],
   "source": [
    "plt.pie(company_expenses,labels=expense_data,startangle=90, shadow=True,autopct='%1.2f%%',radius=1.5,explode=[0,0,0,0.5,0.8])\n",
    "plt.savefig(\"TCE_expenses.png\")"
   ]
  },
  {
   "cell_type": "code",
   "execution_count": null,
   "metadata": {},
   "outputs": [],
   "source": []
  },
  {
   "cell_type": "code",
   "execution_count": null,
   "metadata": {},
   "outputs": [],
   "source": []
  }
 ],
 "metadata": {
  "kernelspec": {
   "display_name": "Python 3",
   "language": "python",
   "name": "python3"
  },
  "language_info": {
   "codemirror_mode": {
    "name": "ipython",
    "version": 3
   },
   "file_extension": ".py",
   "mimetype": "text/x-python",
   "name": "python",
   "nbconvert_exporter": "python",
   "pygments_lexer": "ipython3",
   "version": "3.8.8"
  }
 },
 "nbformat": 4,
 "nbformat_minor": 2
}
