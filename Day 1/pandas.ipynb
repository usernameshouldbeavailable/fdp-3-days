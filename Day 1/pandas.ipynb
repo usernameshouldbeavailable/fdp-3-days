{
 "cells": [
  {
   "cell_type": "code",
   "execution_count": 1,
   "id": "7e78c98a",
   "metadata": {},
   "outputs": [],
   "source": [
    "# creating dataframe\n",
    "# pip install pandas\n",
    "\n",
    "import pandas as pd\n",
    "df = pd.DataFrame(\n",
    "       {\n",
    "            \"Name\": [\n",
    "                \"Mr. Pravinkumar Prajapati\",\n",
    "                \"Miss. Priyanka Paul\",\n",
    "               \"Miss. Elizabeth\",\n",
    "           ],\n",
    "            \"Age\": [22, 30, 58],\n",
    "            \"Gender\": [\"male\", \"female\", \"female\"],\n",
    "        }\n",
    "    )\n",
    " "
   ]
  },
  {
   "cell_type": "code",
   "execution_count": 2,
   "id": "ed859b11",
   "metadata": {},
   "outputs": [
    {
     "data": {
      "text/html": [
       "<div>\n",
       "<style scoped>\n",
       "    .dataframe tbody tr th:only-of-type {\n",
       "        vertical-align: middle;\n",
       "    }\n",
       "\n",
       "    .dataframe tbody tr th {\n",
       "        vertical-align: top;\n",
       "    }\n",
       "\n",
       "    .dataframe thead th {\n",
       "        text-align: right;\n",
       "    }\n",
       "</style>\n",
       "<table border=\"1\" class=\"dataframe\">\n",
       "  <thead>\n",
       "    <tr style=\"text-align: right;\">\n",
       "      <th></th>\n",
       "      <th>Name</th>\n",
       "      <th>Age</th>\n",
       "      <th>Gender</th>\n",
       "    </tr>\n",
       "  </thead>\n",
       "  <tbody>\n",
       "    <tr>\n",
       "      <th>0</th>\n",
       "      <td>Mr. Pravinkumar Prajapati</td>\n",
       "      <td>22</td>\n",
       "      <td>male</td>\n",
       "    </tr>\n",
       "    <tr>\n",
       "      <th>1</th>\n",
       "      <td>Miss. Priyanka Paul</td>\n",
       "      <td>30</td>\n",
       "      <td>female</td>\n",
       "    </tr>\n",
       "    <tr>\n",
       "      <th>2</th>\n",
       "      <td>Miss. Elizabeth</td>\n",
       "      <td>58</td>\n",
       "      <td>female</td>\n",
       "    </tr>\n",
       "  </tbody>\n",
       "</table>\n",
       "</div>"
      ],
      "text/plain": [
       "                        Name  Age  Gender\n",
       "0  Mr. Pravinkumar Prajapati   22    male\n",
       "1        Miss. Priyanka Paul   30  female\n",
       "2            Miss. Elizabeth   58  female"
      ]
     },
     "execution_count": 2,
     "metadata": {},
     "output_type": "execute_result"
    }
   ],
   "source": [
    "#printing Dataframe\n",
    "df"
   ]
  },
  {
   "cell_type": "code",
   "execution_count": 3,
   "id": "a17524cb",
   "metadata": {},
   "outputs": [
    {
     "data": {
      "text/plain": [
       "0    22\n",
       "1    30\n",
       "2    58\n",
       "Name: Age, dtype: int64"
      ]
     },
     "execution_count": 3,
     "metadata": {},
     "output_type": "execute_result"
    }
   ],
   "source": [
    "# Accessing Column\n",
    "df[\"Age\"] # SELECT age FROM people;"
   ]
  },
  {
   "cell_type": "code",
   "execution_count": 4,
   "id": "9c5090a1",
   "metadata": {},
   "outputs": [
    {
     "data": {
      "text/plain": [
       "58"
      ]
     },
     "execution_count": 4,
     "metadata": {},
     "output_type": "execute_result"
    }
   ],
   "source": [
    "# Finding Max value from Column\n",
    "df[\"Age\"].max()"
   ]
  },
  {
   "cell_type": "code",
   "execution_count": 5,
   "id": "e7f57d62",
   "metadata": {
    "scrolled": true
   },
   "outputs": [
    {
     "data": {
      "text/html": [
       "<div>\n",
       "<style scoped>\n",
       "    .dataframe tbody tr th:only-of-type {\n",
       "        vertical-align: middle;\n",
       "    }\n",
       "\n",
       "    .dataframe tbody tr th {\n",
       "        vertical-align: top;\n",
       "    }\n",
       "\n",
       "    .dataframe thead th {\n",
       "        text-align: right;\n",
       "    }\n",
       "</style>\n",
       "<table border=\"1\" class=\"dataframe\">\n",
       "  <thead>\n",
       "    <tr style=\"text-align: right;\">\n",
       "      <th></th>\n",
       "      <th>Age</th>\n",
       "    </tr>\n",
       "  </thead>\n",
       "  <tbody>\n",
       "    <tr>\n",
       "      <th>count</th>\n",
       "      <td>3.000000</td>\n",
       "    </tr>\n",
       "    <tr>\n",
       "      <th>mean</th>\n",
       "      <td>36.666667</td>\n",
       "    </tr>\n",
       "    <tr>\n",
       "      <th>std</th>\n",
       "      <td>18.903263</td>\n",
       "    </tr>\n",
       "    <tr>\n",
       "      <th>min</th>\n",
       "      <td>22.000000</td>\n",
       "    </tr>\n",
       "    <tr>\n",
       "      <th>25%</th>\n",
       "      <td>26.000000</td>\n",
       "    </tr>\n",
       "    <tr>\n",
       "      <th>50%</th>\n",
       "      <td>30.000000</td>\n",
       "    </tr>\n",
       "    <tr>\n",
       "      <th>75%</th>\n",
       "      <td>44.000000</td>\n",
       "    </tr>\n",
       "    <tr>\n",
       "      <th>max</th>\n",
       "      <td>58.000000</td>\n",
       "    </tr>\n",
       "  </tbody>\n",
       "</table>\n",
       "</div>"
      ],
      "text/plain": [
       "             Age\n",
       "count   3.000000\n",
       "mean   36.666667\n",
       "std    18.903263\n",
       "min    22.000000\n",
       "25%    26.000000\n",
       "50%    30.000000\n",
       "75%    44.000000\n",
       "max    58.000000"
      ]
     },
     "execution_count": 5,
     "metadata": {},
     "output_type": "execute_result"
    }
   ],
   "source": [
    "# Statitical Analysis of Column\n",
    "df.describe()"
   ]
  },
  {
   "cell_type": "code",
   "execution_count": 7,
   "id": "8b79a3fc",
   "metadata": {},
   "outputs": [],
   "source": [
    "import pandas as pd"
   ]
  },
  {
   "cell_type": "code",
   "execution_count": 8,
   "id": "911d2dfc",
   "metadata": {},
   "outputs": [],
   "source": [
    "# Read CSV Files\n",
    "titanic = pd.read_csv(\"https://gist.githubusercontent.com/jwalsh/ce1dc0436aba5b7a5c9666f47fa5a380/raw/5ce3854392b43ff97907112d344fc008229b0445/titanic.csv\")"
   ]
  },
  {
   "cell_type": "code",
   "execution_count": 9,
   "id": "266bce69",
   "metadata": {},
   "outputs": [
    {
     "data": {
      "text/html": [
       "<div>\n",
       "<style scoped>\n",
       "    .dataframe tbody tr th:only-of-type {\n",
       "        vertical-align: middle;\n",
       "    }\n",
       "\n",
       "    .dataframe tbody tr th {\n",
       "        vertical-align: top;\n",
       "    }\n",
       "\n",
       "    .dataframe thead th {\n",
       "        text-align: right;\n",
       "    }\n",
       "</style>\n",
       "<table border=\"1\" class=\"dataframe\">\n",
       "  <thead>\n",
       "    <tr style=\"text-align: right;\">\n",
       "      <th></th>\n",
       "      <th>PassengerId</th>\n",
       "      <th>Survived</th>\n",
       "      <th>Pclass</th>\n",
       "      <th>Lname</th>\n",
       "      <th>Name</th>\n",
       "      <th>Sex</th>\n",
       "      <th>Age</th>\n",
       "      <th>SibSp</th>\n",
       "      <th>Parch</th>\n",
       "      <th>Ticket</th>\n",
       "      <th>Fare</th>\n",
       "      <th>Cabin</th>\n",
       "      <th>Embarked</th>\n",
       "    </tr>\n",
       "  </thead>\n",
       "  <tbody>\n",
       "    <tr>\n",
       "      <th>0</th>\n",
       "      <td>1</td>\n",
       "      <td>0</td>\n",
       "      <td>3</td>\n",
       "      <td>Braund</td>\n",
       "      <td>Mr. Owen Harris</td>\n",
       "      <td>male</td>\n",
       "      <td>22.0</td>\n",
       "      <td>1</td>\n",
       "      <td>0</td>\n",
       "      <td>A/5 21171</td>\n",
       "      <td>7.2500</td>\n",
       "      <td>NaN</td>\n",
       "      <td>S</td>\n",
       "    </tr>\n",
       "    <tr>\n",
       "      <th>1</th>\n",
       "      <td>2</td>\n",
       "      <td>1</td>\n",
       "      <td>1</td>\n",
       "      <td>Cumings</td>\n",
       "      <td>Mrs. John Bradley (Florence Briggs Thayer)</td>\n",
       "      <td>female</td>\n",
       "      <td>38.0</td>\n",
       "      <td>1</td>\n",
       "      <td>0</td>\n",
       "      <td>PC 17599</td>\n",
       "      <td>71.2833</td>\n",
       "      <td>C85</td>\n",
       "      <td>C</td>\n",
       "    </tr>\n",
       "    <tr>\n",
       "      <th>2</th>\n",
       "      <td>3</td>\n",
       "      <td>1</td>\n",
       "      <td>3</td>\n",
       "      <td>Heikkinen</td>\n",
       "      <td>Miss. Laina</td>\n",
       "      <td>female</td>\n",
       "      <td>26.0</td>\n",
       "      <td>0</td>\n",
       "      <td>0</td>\n",
       "      <td>STON/O2. 3101282</td>\n",
       "      <td>7.9250</td>\n",
       "      <td>NaN</td>\n",
       "      <td>S</td>\n",
       "    </tr>\n",
       "    <tr>\n",
       "      <th>3</th>\n",
       "      <td>4</td>\n",
       "      <td>1</td>\n",
       "      <td>1</td>\n",
       "      <td>Futrelle</td>\n",
       "      <td>Mrs. Jacques Heath (Lily May Peel)</td>\n",
       "      <td>female</td>\n",
       "      <td>35.0</td>\n",
       "      <td>1</td>\n",
       "      <td>0</td>\n",
       "      <td>113803</td>\n",
       "      <td>53.1000</td>\n",
       "      <td>C123</td>\n",
       "      <td>S</td>\n",
       "    </tr>\n",
       "    <tr>\n",
       "      <th>4</th>\n",
       "      <td>5</td>\n",
       "      <td>0</td>\n",
       "      <td>3</td>\n",
       "      <td>Allen</td>\n",
       "      <td>Mr. William Henry</td>\n",
       "      <td>male</td>\n",
       "      <td>35.0</td>\n",
       "      <td>0</td>\n",
       "      <td>0</td>\n",
       "      <td>373450</td>\n",
       "      <td>8.0500</td>\n",
       "      <td>NaN</td>\n",
       "      <td>S</td>\n",
       "    </tr>\n",
       "  </tbody>\n",
       "</table>\n",
       "</div>"
      ],
      "text/plain": [
       "   PassengerId  Survived  Pclass      Lname  \\\n",
       "0            1         0       3     Braund   \n",
       "1            2         1       1    Cumings   \n",
       "2            3         1       3  Heikkinen   \n",
       "3            4         1       1   Futrelle   \n",
       "4            5         0       3      Allen   \n",
       "\n",
       "                                          Name     Sex   Age  SibSp  Parch  \\\n",
       "0                              Mr. Owen Harris    male  22.0      1      0   \n",
       "1   Mrs. John Bradley (Florence Briggs Thayer)  female  38.0      1      0   \n",
       "2                                  Miss. Laina  female  26.0      0      0   \n",
       "3           Mrs. Jacques Heath (Lily May Peel)  female  35.0      1      0   \n",
       "4                            Mr. William Henry    male  35.0      0      0   \n",
       "\n",
       "             Ticket     Fare Cabin Embarked  \n",
       "0         A/5 21171   7.2500   NaN        S  \n",
       "1          PC 17599  71.2833   C85        C  \n",
       "2  STON/O2. 3101282   7.9250   NaN        S  \n",
       "3            113803  53.1000  C123        S  \n",
       "4            373450   8.0500   NaN        S  "
      ]
     },
     "execution_count": 9,
     "metadata": {},
     "output_type": "execute_result"
    }
   ],
   "source": [
    "# Printing 5 records\n",
    "titanic.head()"
   ]
  },
  {
   "cell_type": "code",
   "execution_count": 10,
   "id": "2af291b1",
   "metadata": {},
   "outputs": [
    {
     "data": {
      "text/plain": [
       "0                                  mr. owen harris\n",
       "1       mrs. john bradley (florence briggs thayer)\n",
       "2                                      miss. laina\n",
       "3               mrs. jacques heath (lily may peel)\n",
       "4                                mr. william henry\n",
       "                          ...                     \n",
       "151                     mrs. thomas (edith wearne)\n",
       "152                                    mr. alfonzo\n",
       "153                              mr. austin blyler\n",
       "154                                 mr. ole martin\n",
       "155                              mr. charles duane\n",
       "Name: Name, Length: 156, dtype: object"
      ]
     },
     "execution_count": 10,
     "metadata": {},
     "output_type": "execute_result"
    }
   ],
   "source": [
    "titanic[\"Name\"].str.lower()"
   ]
  },
  {
   "cell_type": "code",
   "execution_count": 11,
   "id": "50e9a3a8",
   "metadata": {},
   "outputs": [
    {
     "data": {
      "text/plain": [
       "0                                 [ Mr. Owen Harris]\n",
       "1      [ Mrs. John Bradley (Florence Briggs Thayer)]\n",
       "2                                     [ Miss. Laina]\n",
       "3              [ Mrs. Jacques Heath (Lily May Peel)]\n",
       "4                               [ Mr. William Henry]\n",
       "                           ...                      \n",
       "151                    [ Mrs. Thomas (Edith Wearne)]\n",
       "152                                   [ Mr. Alfonzo]\n",
       "153                             [ Mr. Austin Blyler]\n",
       "154                                [ Mr. Ole Martin]\n",
       "155                             [ Mr. Charles Duane]\n",
       "Name: Name, Length: 156, dtype: object"
      ]
     },
     "execution_count": 11,
     "metadata": {},
     "output_type": "execute_result"
    }
   ],
   "source": [
    "titanic[\"Name\"].str.split(\",\") # Avinash, Seth = [avinash, seth]"
   ]
  },
  {
   "cell_type": "code",
   "execution_count": 12,
   "id": "7bcaa7ae",
   "metadata": {},
   "outputs": [],
   "source": [
    "titanic[\"Surname\"] = titanic[\"Name\"].str.split(\",\").str.get(0)"
   ]
  },
  {
   "cell_type": "code",
   "execution_count": 13,
   "id": "116d96a9",
   "metadata": {},
   "outputs": [
    {
     "data": {
      "text/html": [
       "<div>\n",
       "<style scoped>\n",
       "    .dataframe tbody tr th:only-of-type {\n",
       "        vertical-align: middle;\n",
       "    }\n",
       "\n",
       "    .dataframe tbody tr th {\n",
       "        vertical-align: top;\n",
       "    }\n",
       "\n",
       "    .dataframe thead th {\n",
       "        text-align: right;\n",
       "    }\n",
       "</style>\n",
       "<table border=\"1\" class=\"dataframe\">\n",
       "  <thead>\n",
       "    <tr style=\"text-align: right;\">\n",
       "      <th></th>\n",
       "      <th>PassengerId</th>\n",
       "      <th>Survived</th>\n",
       "      <th>Pclass</th>\n",
       "      <th>Lname</th>\n",
       "      <th>Name</th>\n",
       "      <th>Sex</th>\n",
       "      <th>Age</th>\n",
       "      <th>SibSp</th>\n",
       "      <th>Parch</th>\n",
       "      <th>Ticket</th>\n",
       "      <th>Fare</th>\n",
       "      <th>Cabin</th>\n",
       "      <th>Embarked</th>\n",
       "      <th>Surname</th>\n",
       "    </tr>\n",
       "  </thead>\n",
       "  <tbody>\n",
       "    <tr>\n",
       "      <th>0</th>\n",
       "      <td>1</td>\n",
       "      <td>0</td>\n",
       "      <td>3</td>\n",
       "      <td>Braund</td>\n",
       "      <td>Mr. Owen Harris</td>\n",
       "      <td>male</td>\n",
       "      <td>22.0</td>\n",
       "      <td>1</td>\n",
       "      <td>0</td>\n",
       "      <td>A/5 21171</td>\n",
       "      <td>7.2500</td>\n",
       "      <td>NaN</td>\n",
       "      <td>S</td>\n",
       "      <td>Mr. Owen Harris</td>\n",
       "    </tr>\n",
       "    <tr>\n",
       "      <th>1</th>\n",
       "      <td>2</td>\n",
       "      <td>1</td>\n",
       "      <td>1</td>\n",
       "      <td>Cumings</td>\n",
       "      <td>Mrs. John Bradley (Florence Briggs Thayer)</td>\n",
       "      <td>female</td>\n",
       "      <td>38.0</td>\n",
       "      <td>1</td>\n",
       "      <td>0</td>\n",
       "      <td>PC 17599</td>\n",
       "      <td>71.2833</td>\n",
       "      <td>C85</td>\n",
       "      <td>C</td>\n",
       "      <td>Mrs. John Bradley (Florence Briggs Thayer)</td>\n",
       "    </tr>\n",
       "    <tr>\n",
       "      <th>2</th>\n",
       "      <td>3</td>\n",
       "      <td>1</td>\n",
       "      <td>3</td>\n",
       "      <td>Heikkinen</td>\n",
       "      <td>Miss. Laina</td>\n",
       "      <td>female</td>\n",
       "      <td>26.0</td>\n",
       "      <td>0</td>\n",
       "      <td>0</td>\n",
       "      <td>STON/O2. 3101282</td>\n",
       "      <td>7.9250</td>\n",
       "      <td>NaN</td>\n",
       "      <td>S</td>\n",
       "      <td>Miss. Laina</td>\n",
       "    </tr>\n",
       "    <tr>\n",
       "      <th>3</th>\n",
       "      <td>4</td>\n",
       "      <td>1</td>\n",
       "      <td>1</td>\n",
       "      <td>Futrelle</td>\n",
       "      <td>Mrs. Jacques Heath (Lily May Peel)</td>\n",
       "      <td>female</td>\n",
       "      <td>35.0</td>\n",
       "      <td>1</td>\n",
       "      <td>0</td>\n",
       "      <td>113803</td>\n",
       "      <td>53.1000</td>\n",
       "      <td>C123</td>\n",
       "      <td>S</td>\n",
       "      <td>Mrs. Jacques Heath (Lily May Peel)</td>\n",
       "    </tr>\n",
       "    <tr>\n",
       "      <th>4</th>\n",
       "      <td>5</td>\n",
       "      <td>0</td>\n",
       "      <td>3</td>\n",
       "      <td>Allen</td>\n",
       "      <td>Mr. William Henry</td>\n",
       "      <td>male</td>\n",
       "      <td>35.0</td>\n",
       "      <td>0</td>\n",
       "      <td>0</td>\n",
       "      <td>373450</td>\n",
       "      <td>8.0500</td>\n",
       "      <td>NaN</td>\n",
       "      <td>S</td>\n",
       "      <td>Mr. William Henry</td>\n",
       "    </tr>\n",
       "  </tbody>\n",
       "</table>\n",
       "</div>"
      ],
      "text/plain": [
       "   PassengerId  Survived  Pclass      Lname  \\\n",
       "0            1         0       3     Braund   \n",
       "1            2         1       1    Cumings   \n",
       "2            3         1       3  Heikkinen   \n",
       "3            4         1       1   Futrelle   \n",
       "4            5         0       3      Allen   \n",
       "\n",
       "                                          Name     Sex   Age  SibSp  Parch  \\\n",
       "0                              Mr. Owen Harris    male  22.0      1      0   \n",
       "1   Mrs. John Bradley (Florence Briggs Thayer)  female  38.0      1      0   \n",
       "2                                  Miss. Laina  female  26.0      0      0   \n",
       "3           Mrs. Jacques Heath (Lily May Peel)  female  35.0      1      0   \n",
       "4                            Mr. William Henry    male  35.0      0      0   \n",
       "\n",
       "             Ticket     Fare Cabin Embarked  \\\n",
       "0         A/5 21171   7.2500   NaN        S   \n",
       "1          PC 17599  71.2833   C85        C   \n",
       "2  STON/O2. 3101282   7.9250   NaN        S   \n",
       "3            113803  53.1000  C123        S   \n",
       "4            373450   8.0500   NaN        S   \n",
       "\n",
       "                                       Surname  \n",
       "0                              Mr. Owen Harris  \n",
       "1   Mrs. John Bradley (Florence Briggs Thayer)  \n",
       "2                                  Miss. Laina  \n",
       "3           Mrs. Jacques Heath (Lily May Peel)  \n",
       "4                            Mr. William Henry  "
      ]
     },
     "execution_count": 13,
     "metadata": {},
     "output_type": "execute_result"
    }
   ],
   "source": [
    "titanic[\"Surname\"]\n",
    "\n",
    "titanic.head()"
   ]
  },
  {
   "cell_type": "markdown",
   "id": "7598d561",
   "metadata": {},
   "source": [
    "# Pandas Plotting"
   ]
  },
  {
   "cell_type": "markdown",
   "id": "448f84fe",
   "metadata": {},
   "source": [
    "Plot a Scatter Diagram using Pandas"
   ]
  },
  {
   "cell_type": "code",
   "execution_count": 14,
   "id": "e591389a",
   "metadata": {},
   "outputs": [
    {
     "data": {
      "text/html": [
       "<div>\n",
       "<style scoped>\n",
       "    .dataframe tbody tr th:only-of-type {\n",
       "        vertical-align: middle;\n",
       "    }\n",
       "\n",
       "    .dataframe tbody tr th {\n",
       "        vertical-align: top;\n",
       "    }\n",
       "\n",
       "    .dataframe thead th {\n",
       "        text-align: right;\n",
       "    }\n",
       "</style>\n",
       "<table border=\"1\" class=\"dataframe\">\n",
       "  <thead>\n",
       "    <tr style=\"text-align: right;\">\n",
       "      <th></th>\n",
       "      <th>Unemployment_Rate</th>\n",
       "      <th>Stock_Index_Price</th>\n",
       "    </tr>\n",
       "  </thead>\n",
       "  <tbody>\n",
       "    <tr>\n",
       "      <th>0</th>\n",
       "      <td>6.1</td>\n",
       "      <td>1500</td>\n",
       "    </tr>\n",
       "    <tr>\n",
       "      <th>1</th>\n",
       "      <td>5.8</td>\n",
       "      <td>1520</td>\n",
       "    </tr>\n",
       "    <tr>\n",
       "      <th>2</th>\n",
       "      <td>5.7</td>\n",
       "      <td>1525</td>\n",
       "    </tr>\n",
       "    <tr>\n",
       "      <th>3</th>\n",
       "      <td>5.7</td>\n",
       "      <td>1523</td>\n",
       "    </tr>\n",
       "    <tr>\n",
       "      <th>4</th>\n",
       "      <td>5.8</td>\n",
       "      <td>1515</td>\n",
       "    </tr>\n",
       "    <tr>\n",
       "      <th>5</th>\n",
       "      <td>5.6</td>\n",
       "      <td>1540</td>\n",
       "    </tr>\n",
       "    <tr>\n",
       "      <th>6</th>\n",
       "      <td>5.5</td>\n",
       "      <td>1545</td>\n",
       "    </tr>\n",
       "    <tr>\n",
       "      <th>7</th>\n",
       "      <td>5.3</td>\n",
       "      <td>1560</td>\n",
       "    </tr>\n",
       "    <tr>\n",
       "      <th>8</th>\n",
       "      <td>5.2</td>\n",
       "      <td>1555</td>\n",
       "    </tr>\n",
       "    <tr>\n",
       "      <th>9</th>\n",
       "      <td>5.2</td>\n",
       "      <td>1565</td>\n",
       "    </tr>\n",
       "  </tbody>\n",
       "</table>\n",
       "</div>"
      ],
      "text/plain": [
       "   Unemployment_Rate  Stock_Index_Price\n",
       "0                6.1               1500\n",
       "1                5.8               1520\n",
       "2                5.7               1525\n",
       "3                5.7               1523\n",
       "4                5.8               1515\n",
       "5                5.6               1540\n",
       "6                5.5               1545\n",
       "7                5.3               1560\n",
       "8                5.2               1555\n",
       "9                5.2               1565"
      ]
     },
     "execution_count": 14,
     "metadata": {},
     "output_type": "execute_result"
    }
   ],
   "source": [
    "# Prepare the data and create the DataFrame\n",
    "\n",
    "import pandas as pd\n",
    "   \n",
    "data = {'Unemployment_Rate': [6.1,5.8,5.7,5.7,5.8,5.6,5.5,5.3,5.2,5.2],\n",
    "        'Stock_Index_Price': [1500,1520,1525,1523,1515,1540,1545,1560,1555,1565]\n",
    "       }\n",
    "  \n",
    "df = pd.DataFrame(data,columns=['Unemployment_Rate','Stock_Index_Price'])\n",
    "df"
   ]
  },
  {
   "cell_type": "code",
   "execution_count": 15,
   "id": "51e9164a",
   "metadata": {},
   "outputs": [
    {
     "data": {
      "image/png": "[encoded data removed]",
      "text/plain": [
       "<Figure size 432x288 with 1 Axes>"
      ]
     },
     "metadata": {
      "needs_background": "light"
     },
     "output_type": "display_data"
    }
   ],
   "source": [
    "# Plot the DataFrame using Pandas\n",
    "\n",
    "import pandas as pd\n",
    "import matplotlib.pyplot as plt\n",
    "   \n",
    "data = {'Unemployment_Rate': [6.1,5.8,5.7,5.7,5.8,5.6,5.5,5.3,5.2,5.2],\n",
    "        'Stock_Index_Price': [1500,1520,1525,1523,1515,1540,1545,1560,1555,1565]\n",
    "       }\n",
    "  \n",
    "df = pd.DataFrame(data,columns=['Unemployment_Rate','Stock_Index_Price'])\n",
    "df.plot(x ='Unemployment_Rate', y='Stock_Index_Price', kind = 'scatter')\n",
    "plt.show()"
   ]
  },
  {
   "cell_type": "markdown",
   "id": "1d596edd",
   "metadata": {},
   "source": [
    "Plot a Line Chart using Pandas"
   ]
  },
  {
   "cell_type": "code",
   "execution_count": 16,
   "id": "338ecdf7",
   "metadata": {},
   "outputs": [
    {
     "name": "stdout",
     "output_type": "stream",
     "text": [
      "   Year  Unemployment_Rate\n",
      "0  1920                9.8\n",
      "1  1930               12.0\n",
      "2  1940                8.0\n",
      "3  1950                7.2\n",
      "4  1960                6.9\n",
      "5  1970                7.0\n",
      "6  1980                6.5\n",
      "7  1990                6.2\n",
      "8  2000                5.5\n",
      "9  2010                6.3\n"
     ]
    }
   ],
   "source": [
    "# Prepare the data and create the DataFrame\n",
    "\n",
    "import pandas as pd\n",
    "   \n",
    "data = {'Year': [1920,1930,1940,1950,1960,1970,1980,1990,2000,2010],\n",
    "        'Unemployment_Rate': [9.8,12,8,7.2,6.9,7,6.5,6.2,5.5,6.3]\n",
    "       }\n",
    "  \n",
    "df = pd.DataFrame(data,columns=['Year','Unemployment_Rate'])\n",
    "print (df)"
   ]
  },
  {
   "cell_type": "code",
   "execution_count": 17,
   "id": "5af61e21",
   "metadata": {},
   "outputs": [
    {
     "data": {
      "image/png": "[encoded data removed]",
      "text/plain": [
       "<Figure size 432x288 with 1 Axes>"
      ]
     },
     "metadata": {
      "needs_background": "light"
     },
     "output_type": "display_data"
    }
   ],
   "source": [
    "# Plot the DataFrame using Pandas\n",
    "\n",
    "import pandas as pd\n",
    "import matplotlib.pyplot as plt\n",
    "   \n",
    "data = {'Year': [1920,1930,1940,1950,1960,1970,1980,1990,2000,2010],\n",
    "        'Unemployment_Rate': [9.8,12,8,7.2,6.9,7,6.5,6.2,5.5,6.3]\n",
    "       }\n",
    "  \n",
    "df = pd.DataFrame(data,columns=['Year','Unemployment_Rate'])\n",
    "df.plot(x ='Year', y='Unemployment_Rate', kind = 'line')\n",
    "plt.show()"
   ]
  },
  {
   "cell_type": "markdown",
   "id": "51337526",
   "metadata": {},
   "source": [
    "Plot a Bar Chart using Pandas"
   ]
  },
  {
   "cell_type": "code",
   "execution_count": 18,
   "id": "0328cd8f",
   "metadata": {},
   "outputs": [
    {
     "name": "stdout",
     "output_type": "stream",
     "text": [
      "   Country  GDP_Per_Capita\n",
      "0      USA           45000\n",
      "1   Canada           42000\n",
      "2  Germany           52000\n",
      "3       UK           49000\n",
      "4   France           47000\n"
     ]
    }
   ],
   "source": [
    "# Prepare the data and create the DataFrame\n",
    "\n",
    "import pandas as pd\n",
    "   \n",
    "data = {'Country': ['USA','Canada','Germany','UK','France'],\n",
    "        'GDP_Per_Capita': [45000,42000,52000,49000,47000]\n",
    "       }\n",
    "  \n",
    "df = pd.DataFrame(data,columns=['Country','GDP_Per_Capita'])\n",
    "print (df)"
   ]
  },
  {
   "cell_type": "code",
   "execution_count": 19,
   "id": "d3dfc03f",
   "metadata": {},
   "outputs": [
    {
     "data": {
      "image/png": "[encoded data removed]",
      "text/plain": [
       "<Figure size 432x288 with 1 Axes>"
      ]
     },
     "metadata": {
      "needs_background": "light"
     },
     "output_type": "display_data"
    }
   ],
   "source": [
    "# Plot the DataFrame using Pandas\n",
    "\n",
    "import pandas as pd\n",
    "import matplotlib.pyplot as plt\n",
    "   \n",
    "data = {'Country': ['USA','Canada','Germany','UK','France'],\n",
    "        'GDP_Per_Capita': [45000,42000,52000,49000,47000]\n",
    "       }\n",
    "  \n",
    "df = pd.DataFrame(data,columns=['Country','GDP_Per_Capita'])\n",
    "df.plot(x ='Country', y='GDP_Per_Capita', kind = 'bar')\n",
    "plt.show()"
   ]
  },
  {
   "cell_type": "markdown",
   "id": "2c23c605",
   "metadata": {},
   "source": [
    "Plot a Pie Chart using Pandas"
   ]
  },
  {
   "cell_type": "code",
   "execution_count": 25,
   "id": "c2f8fd3e",
   "metadata": {},
   "outputs": [
    {
     "name": "stdout",
     "output_type": "stream",
     "text": [
      "                 Tasks\n",
      "Tasks Pending      300\n",
      "Tasks Ongoing      500\n",
      "Tasks Completed    700\n"
     ]
    }
   ],
   "source": [
    "# Prepare the data and create the DataFrame\n",
    "\n",
    "import pandas as pd\n",
    "\n",
    "data = {'Tasks': [300,500,700]}\n",
    "\n",
    "df = pd.DataFrame(data,columns=['Tasks'],index = ['Tasks Pending','Tasks Ongoing','Tasks Completed'])\n",
    "\n",
    "print(df)"
   ]
  },
  {
   "cell_type": "code",
   "execution_count": 29,
   "id": "e71d755c",
   "metadata": {},
   "outputs": [
    {
     "data": {
      "image/png": "[encoded data removed]",
      "text/plain": [
       "<Figure size 360x360 with 1 Axes>"
      ]
     },
     "metadata": {},
     "output_type": "display_data"
    }
   ],
   "source": [
    "# Plot the DataFrame using Pandas\n",
    "\n",
    "import pandas as pd\n",
    "import matplotlib.pyplot as plt\n",
    "\n",
    "data = {'Tasks': [300,500,700]}\n",
    "df = pd.DataFrame(data,columns=['Tasks'],index = ['Tasks Pending','Tasks Ongoing','Tasks Completed'])\n",
    "\n",
    "df.plot.pie(y='Tasks',figsize=(5, 5),autopct='%1.0f%%', startangle=0)\n",
    "plt.show()"
   ]
  },
  {
   "cell_type": "code",
   "execution_count": null,
   "id": "6d29edf5",
   "metadata": {},
   "outputs": [],
   "source": []
  }
 ],
 "metadata": {
  "kernelspec": {
   "display_name": "Python 3",
   "language": "python",
   "name": "python3"
  },
  "language_info": {
   "codemirror_mode": {
    "name": "ipython",
    "version": 3
   },
   "file_extension": ".py",
   "mimetype": "text/x-python",
   "name": "python",
   "nbconvert_exporter": "python",
   "pygments_lexer": "ipython3",
   "version": "3.8.8"
  }
 },
 "nbformat": 4,
 "nbformat_minor": 5
}
